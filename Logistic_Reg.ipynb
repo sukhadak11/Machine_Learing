{
  "nbformat": 4,
  "nbformat_minor": 0,
  "metadata": {
    "colab": {
      "provenance": [],
      "authorship_tag": "ABX9TyN0wlRY8WpMuJS334UcMuGE",
      "include_colab_link": true
    },
    "kernelspec": {
      "name": "python3",
      "display_name": "Python 3"
    },
    "language_info": {
      "name": "python"
    }
  },
  "cells": [
    {
      "cell_type": "markdown",
      "metadata": {
        "id": "view-in-github",
        "colab_type": "text"
      },
      "source": [
        "<a href=\"https://colab.research.google.com/github/sukhadak11/Machine_Learing/blob/main/Logistic_Reg.ipynb\" target=\"_parent\"><img src=\"https://colab.research.google.com/assets/colab-badge.svg\" alt=\"Open In Colab\"/></a>"
      ]
    },
    {
      "cell_type": "markdown",
      "metadata": {
        "id": "f5BLpBB_cv8y"
      },
      "source": [
        "**Logistic Regression:**"
      ]
    },
    {
      "cell_type": "code",
      "source": [
        "import numpy as np"
      ],
      "metadata": {
        "id": "Ey-oKy2c7ybu"
      },
      "execution_count": 1,
      "outputs": []
    },
    {
      "cell_type": "code",
      "source": [
        "class Logistic_Regression():\n",
        "\n",
        "# declaring learning rate & number of iterations (Hyperparametes)\n",
        "  def __init__(self, learning_rate, no_of_iterations):\n",
        "\n",
        "    self.learning_rate = learning_rate\n",
        "    self.no_of_iterations = no_of_iterations\n",
        "\n",
        "     # fit function to train the model with dataset\n",
        "  def fit(self, X, Y):\n",
        "\n",
        "    # number of data points in the dataset (number of rows)  -->  m\n",
        "    # number of input features in the dataset (number of columns)  --> n\n",
        "    self.m, self.n = X.shape\n",
        "\n",
        "#initiating weight & bias value\n",
        "    self.w = np.zeros(self.n)\n",
        "\n",
        "    self.b = 0\n",
        "\n",
        "    self.X = X\n",
        "\n",
        "    self.Y = Y\n",
        "\n",
        "\n",
        "    # implementing Gradient Descent for Optimization\n",
        "\n",
        "    for i in range(self.no_of_iterations):\n",
        "      self.update_weights()\n",
        "\n",
        "      #upadate\n",
        "\n",
        "    def upadate_weights(self):\n",
        "\n",
        "      #sigmoid function\n",
        "\n",
        "      Y_hat = 1/(1+np.exp(-(self.X.dot(self.w)+self.b))) #wX+b\n",
        "\n",
        "      # derivaties\n",
        "\n",
        "    dw = (1/self.m)*np.dot(self.X.T, (Y_hat - self.Y))\n",
        "\n",
        "    db = (1/self.m)*np.sum(Y_hat - self.Y)\n",
        "\n",
        "     # updating the weights & bias using gradient descent\n",
        "\n",
        "    self.w = self.w - self.learning_rate * dw #w=w-alpa*dw\n",
        "\n",
        "    self.b = self.b - self.learning_rate * db #b=b-alpa*db\n",
        "\n",
        "\n",
        "  # Sigmoid Equation & Decision Boundary\n",
        "\n",
        "  def predict(self, X):\n",
        "\n",
        "    Y_pred = 1 / (1 + np.exp( - (X.dot(self.w) + self.b ) ))\n",
        "    Y_pred = np.where( Y_pred > 0.5, 1, 0)\n",
        "    return Y_pred\n",
        "\n",
        "\n",
        "\n",
        "\n",
        "\n"
      ],
      "metadata": {
        "id": "LaolP5qV73sR"
      },
      "execution_count": 5,
      "outputs": []
    },
    {
      "cell_type": "code",
      "source": [],
      "metadata": {
        "id": "A5LFXfdMEHu8"
      },
      "execution_count": null,
      "outputs": []
    }
  ]
}